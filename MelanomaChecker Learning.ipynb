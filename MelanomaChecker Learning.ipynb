{
  "cells": [
    {
      "cell_type": "markdown",
      "source": [
        "This Notebook is made to run in Google Collab\n",
        "\n",
        "Sources:\n",
        "\n",
        "Understanding how to interpret the HAM10000 dataset: https://github.com/rtharungowda/Skin-Lesion-Pytorch-HAM10000\n",
        "\n",
        "Understanding PyTorch.Lightning: https://uvadlc-notebooks.readthedocs.io/en/latest/tutorial_notebooks/tutorial5/Inception_ResNet_DenseNet.html"
      ],
      "metadata": {
        "id": "nB1TfYxF1D4I"
      }
    },
    {
      "cell_type": "markdown",
      "metadata": {
        "id": "12AWNwEzT7pu"
      },
      "source": [
        "# Downloading HAM10000 data (you'll need a kaggle key)"
      ]
    },
    {
      "cell_type": "code",
      "execution_count": null,
      "metadata": {
        "id": "Um6cd-ibT-DA"
      },
      "outputs": [],
      "source": [
        "#upload your Kaggle key (kaggle.json)\n",
        "from google.colab import files\n",
        "\n",
        "uploaded = files.upload()\n",
        "\n",
        "for fn in uploaded.keys():\n",
        "  print('User uploaded file \"{name}\" with length {length} bytes'.format(\n",
        "      name=fn, length=len(uploaded[fn])))\n",
        "  \n",
        "# Then move kaggle.json into the folder where the API expects to find it.\n",
        "!mkdir -p ~/.kaggle/ && mv kaggle.json ~/.kaggle/ && chmod 600 ~/.kaggle/kaggle.json"
      ]
    },
    {
      "cell_type": "code",
      "execution_count": null,
      "metadata": {
        "id": "tKTJ9rohT_Lw"
      },
      "outputs": [],
      "source": [
        "# downloading the data into content\n",
        "!mkdir /content/input\n",
        "!kaggle datasets download -d kmader/skin-cancer-mnist-ham10000 -p /content/input\n",
        "!mkdir /content/input/HAM10000\n",
        "#unzip the data\n",
        "!unzip -q /content/input/skin-cancer-mnist-ham10000.zip -d /content/input/HAM10000/\n",
        "#merge the patial folders\n",
        "!cp -a /content/input/HAM10000/HAM10000_images_part_2/. /content/input/HAM10000/HAM10000_images_part_1/\n",
        "!cp -a /content/input/HAM10000/ham10000_images_part_2/. /content/input/HAM10000/ham10000_images_part_1/\n",
        "#remove part 2 stuff an rename part 1\n",
        "!rm -r /content/input/HAM10000/HAM10000_images_part_2\n",
        "!rm -r /content/input/HAM10000/ham10000_images_part_2\n",
        "!mv /content/input/HAM10000/HAM10000_images_part_1 /content/input/HAM10000/HAM10000_images\n",
        "!mv /content/input/HAM10000/ham10000_images_part_1 /content/input/HAM10000/ham10000_images\n",
        "# where did that one come from? The dataset seems to be twice in the zip...\n",
        "!rm -r /content/input/HAM10000/ham10000_images"
      ]
    },
    {
      "cell_type": "markdown",
      "metadata": {
        "id": "VRQBhR21UBO9"
      },
      "source": [
        "#Imports"
      ]
    },
    {
      "cell_type": "code",
      "execution_count": 38,
      "metadata": {
        "id": "jpUEFvpiUDaU"
      },
      "outputs": [],
      "source": [
        "# install libraries that are not installed on colab by default\n",
        "!pip install --quiet pytorch-lightning\n",
        "\n",
        "# general tools\n",
        "from collections import Counter\n",
        "import os\n",
        "import numpy as np\n",
        "import pandas as pd\n",
        "from tqdm import tqdm\n",
        "from PIL import Image\n",
        "\n",
        "# torch\n",
        "import torch\n",
        "from torch import optim,nn\n",
        "from torch.autograd import Variable\n",
        "from torch.utils.data import DataLoader,Dataset\n",
        "from torchvision import models,transforms\n",
        "import pytorch_lightning as pl\n",
        "from pytorch_lightning.callbacks import LearningRateMonitor, ModelCheckpoint\n",
        "\n",
        "# sklearn\n",
        "from sklearn.model_selection import train_test_split"
      ]
    },
    {
      "cell_type": "markdown",
      "metadata": {
        "id": "3MExwjBPUK_8"
      },
      "source": [
        "#Preparing the Data"
      ]
    },
    {
      "cell_type": "code",
      "source": [
        "metadata_path = '/content/input/HAM10000/HAM10000_metadata.csv'\n",
        "dataset_dir = '/content/input/HAM10000/HAM10000_images/'\n",
        "CHECKPOINT_PATH = '/content/saved_models'"
      ],
      "metadata": {
        "id": "wyak1ldq3lOC"
      },
      "execution_count": 39,
      "outputs": []
    },
    {
      "cell_type": "code",
      "execution_count": 40,
      "metadata": {
        "id": "nm_V-JXuU2zS"
      },
      "outputs": [],
      "source": [
        "dataset = pd.read_csv(metadata_path)\n",
        "\n",
        "lesion_type_dict = {\n",
        "    'nv': 'Melanocytic nevi',\n",
        "    'mel': 'dermatofibroma',\n",
        "    'bkl': 'Benign keratosis-like lesions ',\n",
        "    'bcc': 'Basal cell carcinoma',\n",
        "    'akiec': 'Actinic keratoses',\n",
        "    'vasc': 'Vascular lesions',\n",
        "    'df': 'Dermatofibroma'\n",
        "}\n",
        "\n",
        "# have a column where we have the dx as number, we nned that to get a tensor\n",
        "dataset['dx_num'] = pd.Categorical(dataset['dx']).codes\n",
        "\n",
        "# define what our input (x) and labels (y) are\n",
        "x = dataset['image_id'].values.tolist()\n",
        "x = [dataset_dir + s + \".jpg\" for s in x]\n",
        "y = dataset['dx_num'].values.tolist()\n",
        "\n",
        "# split our data up into training and validation data\n",
        "x_train, x_validation, y_train, y_validation = train_test_split(x, y, test_size=0.2, random_state=shuffle_random)"
      ]
    },
    {
      "cell_type": "code",
      "execution_count": null,
      "metadata": {
        "id": "6ecCKtRpZ0uj"
      },
      "outputs": [],
      "source": [
        "# let's count how many entrys we have for each label\n",
        "# we can nicely see what label represents what dx here\n",
        "\n",
        "print(Counter(y))\n",
        "print(Counter(dataset['dx'].values.tolist()))\n",
        "\n",
        "print(Counter(y_train))\n",
        "print(Counter(y_validation))"
      ]
    },
    {
      "cell_type": "code",
      "execution_count": 42,
      "metadata": {
        "id": "5r74bhe7UVCO"
      },
      "outputs": [],
      "source": [
        "def compute_img_mean_std(image_paths):\n",
        "    imgs = []\n",
        "    means, stdevs = [], []\n",
        "\n",
        "    for i in tqdm(range(len(image_paths))):\n",
        "        img = Image.open(image_paths[i])\n",
        "        imgs.append(img)\n",
        "\n",
        "    imgs = np.stack(imgs, axis=0)\n",
        "    imgs = imgs.astype(np.float32) / 255.\n",
        "\n",
        "    for i in range(3):\n",
        "        pixels = imgs[:, :, :, i].ravel()\n",
        "        means.append(np.mean(pixels))\n",
        "        stdevs.append(np.std(pixels))\n",
        "\n",
        "    return means.reverse(),stdevs.reverse()"
      ]
    },
    {
      "cell_type": "code",
      "execution_count": 43,
      "metadata": {
        "id": "ZCwTUfVMsDqR"
      },
      "outputs": [],
      "source": [
        "#norm_mean, norm_std = compute_img_mean_std(x)\n",
        "# the above sometimes crashes due to memory shortage, so here's the mean and standard derivation from when it has worked\n",
        "norm_mean = [0.76303625, 0.5456404, 0.5700425]\n",
        "norm_std = [0.140928, 0.15261285, 0.1699707]"
      ]
    },
    {
      "cell_type": "code",
      "execution_count": 44,
      "metadata": {
        "id": "tNr6mCQImC04"
      },
      "outputs": [],
      "source": [
        "# define the transformation of the training images.\n",
        "train_transform = transforms.Compose([transforms.Resize((224,224)),transforms.RandomHorizontalFlip(),\n",
        "                                      transforms.RandomVerticalFlip(),transforms.RandomRotation(20),\n",
        "                                      transforms.ColorJitter(brightness=0.1, contrast=0.1, hue=0.1),\n",
        "                                        transforms.ToTensor(), transforms.Normalize(norm_mean, norm_std)])\n",
        "# define the transformation of the validation images.\n",
        "val_transform = transforms.Compose([transforms.Resize((224,224)), transforms.ToTensor(),\n",
        "                                    transforms.Normalize(norm_mean, norm_std)])"
      ]
    },
    {
      "cell_type": "code",
      "execution_count": 45,
      "metadata": {
        "id": "l6lQxirJovMj"
      },
      "outputs": [],
      "source": [
        "#defining the dataset\n",
        "class image_dataset(Dataset):\n",
        "  def __init__(self, x, y, transform=None):\n",
        "    self.x = x\n",
        "    self.y = y\n",
        "    self.transform = transform\n",
        "\n",
        "  def __len__(self):\n",
        "    return len(self.x)\n",
        "  \n",
        "  def __getitem__(self, index):\n",
        "    x = Image.open(self.x[index])\n",
        "    x = self.transform(x)\n",
        "    y = self.y[index]\n",
        "    return x, y"
      ]
    },
    {
      "cell_type": "code",
      "execution_count": 46,
      "metadata": {
        "id": "M46HwirUqrBL"
      },
      "outputs": [],
      "source": [
        "training_set = image_dataset(x_train, y_train, transform=train_transform)\n",
        "training_loader = DataLoader(training_set, batch_size=8, shuffle=True, num_workers=2)\n",
        "\n",
        "validation_set = image_dataset(x_validation, y_validation, transform=val_transform)\n",
        "validation_loader = DataLoader(training_set, batch_size=8, shuffle=False, num_workers=2)"
      ]
    },
    {
      "cell_type": "markdown",
      "metadata": {
        "id": "j3dKHZOllwM3"
      },
      "source": [
        "#Training"
      ]
    },
    {
      "cell_type": "code",
      "execution_count": 47,
      "metadata": {
        "id": "mUY3F177vj59"
      },
      "outputs": [],
      "source": [
        "class mymodule(pl.LightningModule):\n",
        "\n",
        "    def __init__(self):\n",
        "\n",
        "        super().__init__()\n",
        "\n",
        "        # Create model\n",
        "        self.model = models.densenet121(pretrained=True)\n",
        "        num_ftrs = self.model.classifier.in_features\n",
        "        self.model.classifier = nn.Linear(num_ftrs, 7)\n",
        "\n",
        "        # Create loss module\n",
        "        self.loss_module = nn.CrossEntropyLoss()\n",
        "\n",
        "        # Example input for visualizing the graph in Tensorboard\n",
        "        self.example_input_array = torch.zeros((1, 3, 32, 32), dtype=torch.float32)\n",
        "\n",
        "    def forward(self, imgs):\n",
        "        return self.model(imgs)\n",
        "\n",
        "    def configure_optimizers(self):\n",
        "        optimizer = optim.Adam(self.model.parameters(), lr=1e-3)\n",
        "\n",
        "        scheduler = optim.lr_scheduler.MultiStepLR(\n",
        "            optimizer, milestones=[100, 150], gamma=0.1)\n",
        "        return [optimizer], [scheduler]\n",
        "\n",
        "    def training_step(self, batch, batch_idx):\n",
        "        imgs, labels = batch\n",
        "        preds = self.model(imgs)\n",
        "        loss = self.loss_module(preds, labels)\n",
        "        acc = (preds.argmax(dim=-1) == labels).float().mean()\n",
        "        return loss  # Return tensor to call \".backward\" on\n",
        "\n",
        "    def validation_step(self, batch, batch_idx):\n",
        "        imgs, labels = batch\n",
        "        preds = self.model(imgs).argmax(dim=-1)\n",
        "        acc = (labels == preds).float().mean()\n",
        "        # By default logs it per epoch (weighted average over batches)\n",
        "        self.log('val_acc', acc)\n",
        "\n",
        "    def test_step(self, batch, batch_idx):\n",
        "        imgs, labels = batch\n",
        "        preds = self.model(imgs).argmax(dim=-1)\n",
        "        acc = (labels == preds).float().mean()\n",
        "        # By default logs it per epoch (weighted average over batches), and returns it afterwards\n",
        "        self.log('test_acc', acc)"
      ]
    },
    {
      "cell_type": "code",
      "execution_count": 48,
      "metadata": {
        "id": "HYPbfptpvyeT"
      },
      "outputs": [],
      "source": [
        "from torch._C import device\n",
        "def train_model(model_name):\n",
        "    save_name = model_name\n",
        "\n",
        "    # Create a PyTorch Lightning trainer with the generation callback\n",
        "    trainer = pl.Trainer(default_root_dir=os.path.join(CHECKPOINT_PATH, save_name),\n",
        "                         gpus=1,\n",
        "                         max_epochs=10,\n",
        "                         callbacks=[ModelCheckpoint(save_weights_only=True, mode=\"max\", monitor=\"val_acc\"), LearningRateMonitor(\"epoch\")],\n",
        "                         progress_bar_refresh_rate=1\n",
        "                         )\n",
        "\n",
        "    model = mymodule()\n",
        "    trainer.fit(model, training_loader, validation_loader)\n",
        "    model = mymodule.load_from_checkpoint(trainer.checkpoint_callback.best_model_path) # Load best checkpoint after training\n",
        "\n",
        "    # Test best model on validation set\n",
        "    val_result = trainer.test(model, test_dataloaders=validation_loader, verbose=False)\n",
        "    result = {\"val\": val_result[0][\"test_acc\"]}\n",
        "\n",
        "    return model, result"
      ]
    },
    {
      "cell_type": "code",
      "execution_count": null,
      "metadata": {
        "id": "Z3PskZqLyqiZ"
      },
      "outputs": [],
      "source": [
        "densenet_model, densenet_results = train_model(model_name=\"DenseNet\")"
      ]
    },
    {
      "cell_type": "markdown",
      "source": [
        "#Export"
      ],
      "metadata": {
        "id": "iwUTYeEPvFpR"
      }
    },
    {
      "cell_type": "code",
      "source": [
        "torch.save(densenet_model.state_dict(), '/content/HAM10000-Densenet.pth')"
      ],
      "metadata": {
        "id": "Ov2hJojGu_aG"
      },
      "execution_count": 35,
      "outputs": []
    }
  ],
  "metadata": {
    "accelerator": "GPU",
    "colab": {
      "collapsed_sections": [],
      "name": "Untitled1 (1).ipynb",
      "provenance": []
    },
    "kernelspec": {
      "display_name": "Python 3",
      "name": "python3"
    },
    "language_info": {
      "codemirror_mode": {
        "name": "ipython",
        "version": 3
      },
      "file_extension": ".py",
      "mimetype": "text/x-python",
      "name": "python",
      "nbconvert_exporter": "python",
      "pygments_lexer": "ipython3",
      "version": "3.9.7"
    }
  },
  "nbformat": 4,
  "nbformat_minor": 0
}